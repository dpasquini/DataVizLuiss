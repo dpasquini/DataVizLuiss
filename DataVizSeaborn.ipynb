{
 "cells": [
  {
   "cell_type": "markdown",
   "id": "07adb0d0-5b52-409b-bba2-78c1016166ea",
   "metadata": {},
   "source": [
    "### first python application for data analysis"
   ]
  },
  {
   "cell_type": "code",
   "execution_count": null,
   "id": "3ee2fbe1-836b-4ec7-824f-a809ab4a465d",
   "metadata": {},
   "outputs": [],
   "source": []
  }
 ],
 "metadata": {
  "kernelspec": {
   "display_name": "Python 3 (ipykernel)",
   "language": "python",
   "name": "python3"
  },
  "language_info": {
   "codemirror_mode": {
    "name": "ipython",
    "version": 3
   },
   "file_extension": ".py",
   "mimetype": "text/x-python",
   "name": "python",
   "nbconvert_exporter": "python",
   "pygments_lexer": "ipython3",
   "version": "3.11.5"
  }
 },
 "nbformat": 4,
 "nbformat_minor": 5
}
